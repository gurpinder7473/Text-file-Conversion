{
  "nbformat": 4,
  "nbformat_minor": 0,
  "metadata": {
    "colab": {
      "provenance": [],
      "authorship_tag": "ABX9TyNpYEWhDlWYzUtGmyyQpUtZ",
      "include_colab_link": true
    },
    "kernelspec": {
      "name": "python3",
      "display_name": "Python 3"
    },
    "language_info": {
      "name": "python"
    }
  },
  "cells": [
    {
      "cell_type": "markdown",
      "metadata": {
        "id": "view-in-github",
        "colab_type": "text"
      },
      "source": [
        "<a href=\"https://colab.research.google.com/github/gurpinder7473/Text-file-Conversion/blob/main/convert_text.ipynb\" target=\"_parent\"><img src=\"https://colab.research.google.com/assets/colab-badge.svg\" alt=\"Open In Colab\"/></a>"
      ]
    },
    {
      "cell_type": "code",
      "source": [
        "import os\n",
        "L=os.listdir('input')\n",
        "for f in L:\n",
        "  Readfp=open('input/'+f)\n",
        "  Writefp=open('output/new'+f,'w')\n",
        "  for line in Readfp:\n",
        "    Writefp.write(line.upper())\n",
        "  Writefp.close()\n",
        "  Readfp.close()"
      ],
      "metadata": {
        "id": "u4Lbm4jjYHCx"
      },
      "execution_count": 6,
      "outputs": []
    }
  ]
}